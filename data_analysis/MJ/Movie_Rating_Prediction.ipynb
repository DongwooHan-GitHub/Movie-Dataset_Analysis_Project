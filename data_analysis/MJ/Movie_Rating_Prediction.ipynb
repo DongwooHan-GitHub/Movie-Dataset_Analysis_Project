{
  "nbformat": 4,
  "nbformat_minor": 0,
  "metadata": {
    "colab": {
      "provenance": [],
      "mount_file_id": "1qBEhcIYYtmhFOPJyO7nsiPgy-K9msfTs",
      "authorship_tag": "ABX9TyM/NGTeyGgRLZ/goNmGvCeO",
      "include_colab_link": true
    },
    "kernelspec": {
      "name": "python3",
      "display_name": "Python 3"
    },
    "language_info": {
      "name": "python"
    }
  },
  "cells": [
    {
      "cell_type": "markdown",
      "metadata": {
        "id": "view-in-github",
        "colab_type": "text"
      },
      "source": [
        "<a href=\"https://colab.research.google.com/github/mjxxkxx/Movie-Dataset_Analysis_Project/blob/main/Movie_Rating_Prediction.ipynb\" target=\"_parent\"><img src=\"https://colab.research.google.com/assets/colab-badge.svg\" alt=\"Open In Colab\"/></a>"
      ]
    },
    {
      "cell_type": "code",
      "source": [
        "import pandas as pd\n",
        "import numpy as np\n",
        "import ast\n",
        "from sklearn.model_selection import train_test_split\n",
        "from sklearn.preprocessing import StandardScaler\n",
        "from sklearn.linear_model import LinearRegression\n",
        "from sklearn.ensemble import RandomForestRegressor\n",
        "from xgboost import XGBRegressor\n",
        "from sklearn.metrics import mean_squared_error, r2_score\n",
        "import matplotlib.pyplot as plt\n",
        "import seaborn as sns\n",
        "\n",
        "# 데이터 로드\n",
        "movies_metadata_path = '/content/drive/MyDrive/dataset_miniproject/movies_metadata.csv'\n",
        "movies_metadata_df = pd.read_csv(movies_metadata_path, low_memory=False)\n",
        "\n",
        "# 데이터 전처리\n",
        "movies_metadata_df['release_date'] = pd.to_datetime(movies_metadata_df['release_date'], errors='coerce')\n",
        "movies_metadata_df['release_year'] = movies_metadata_df['release_date'].dt.year\n",
        "movies_metadata_df['budget'] = pd.to_numeric(movies_metadata_df['budget'], errors='coerce')\n",
        "movies_metadata_df['revenue'] = pd.to_numeric(movies_metadata_df['revenue'], errors='coerce')\n",
        "movies_metadata_df['popularity'] = pd.to_numeric(movies_metadata_df['popularity'], errors='coerce')\n",
        "\n",
        "# 결측값 처리: budget과 revenue의 결측값은 0으로 대체\n",
        "movies_metadata_df['budget'].fillna(0, inplace=True)\n",
        "movies_metadata_df['revenue'].fillna(0, inplace=True)\n",
        "movies_metadata_df['popularity'].fillna(movies_metadata_df['popularity'].mean(), inplace=True)\n",
        "\n",
        "# 필요한 컬럼 선택 및 결측치 제거\n",
        "features = ['budget', 'revenue', 'popularity', 'runtime', 'release_year']\n",
        "movies_metadata_df = movies_metadata_df[features + ['vote_average']].dropna()\n",
        "\n",
        "# 입력(X)과 출력(y) 분리\n",
        "X = movies_metadata_df[features]\n",
        "y = movies_metadata_df['vote_average']\n",
        "\n",
        "# 데이터 분할 (학습용 80%, 테스트용 20%)\n",
        "X_train, X_test, y_train, y_test = train_test_split(X, y, test_size=0.2, random_state=42)\n",
        "\n",
        "# 데이터 스케일링 (Linear Regression 모델에 필요)\n",
        "scaler = StandardScaler()\n",
        "X_train_scaled = scaler.fit_transform(X_train)\n",
        "X_test_scaled = scaler.transform(X_test)\n",
        "\n",
        "# 1. Linear Regression\n",
        "lr_model = LinearRegression()\n",
        "lr_model.fit(X_train_scaled, y_train)\n",
        "lr_predictions = lr_model.predict(X_test_scaled)\n",
        "\n",
        "# 2. Random Forest\n",
        "rf_model = RandomForestRegressor(n_estimators=100, random_state=42)\n",
        "rf_model.fit(X_train, y_train)\n",
        "rf_predictions = rf_model.predict(X_test)\n",
        "\n",
        "# 3. XGBoost\n",
        "xgb_model = XGBRegressor(n_estimators=100, learning_rate=0.1, max_depth=5, random_state=42)\n",
        "xgb_model.fit(X_train, y_train)\n",
        "xgb_predictions = xgb_model.predict(X_test)\n",
        "\n",
        "# 평가 함수\n",
        "def evaluate_model(predictions, y_test, model_name):\n",
        "    mse = mean_squared_error(y_test, predictions)\n",
        "    rmse = np.sqrt(mse)\n",
        "    r2 = r2_score(y_test, predictions)\n",
        "    print(f\"{model_name} Model Performance:\")\n",
        "    print(f\"RMSE: {rmse:.4f}\")\n",
        "    print(f\"R^2 Score: {r2:.4f}\\n\")\n",
        "\n",
        "# 모델 평가\n",
        "evaluate_model(lr_predictions, y_test, \"Linear Regression\")\n",
        "evaluate_model(rf_predictions, y_test, \"Random Forest\")\n",
        "evaluate_model(xgb_predictions, y_test, \"XGBoost\")\n",
        "\n",
        "# 모델 성능 비교 시각화\n",
        "results = {\n",
        "    'Model': ['Linear Regression', 'Random Forest', 'XGBoost'],\n",
        "    'RMSE': [np.sqrt(mean_squared_error(y_test, lr_predictions)),\n",
        "             np.sqrt(mean_squared_error(y_test, rf_predictions)),\n",
        "             np.sqrt(mean_squared_error(y_test, xgb_predictions))],\n",
        "    'R2 Score': [r2_score(y_test, lr_predictions),\n",
        "                 r2_score(y_test, rf_predictions),\n",
        "                 r2_score(y_test, xgb_predictions)]\n",
        "}\n",
        "\n",
        "# results_df = pd.DataFrame(results)\n",
        "\n",
        "# plt.figure(figsize=(12, 6))\n",
        "# sns.barplot(x='Model', y='RMSE', data=results_df)\n",
        "# plt.title('Model Performance Comparison (RMSE)')\n",
        "# plt.ylabel('RMSE')\n",
        "# plt.show()\n",
        "\n",
        "# plt.figure(figsize=(12, 6))\n",
        "# sns.barplot(x='Model', y='R2 Score', data=results_df)\n",
        "# plt.title('Model Performance Comparison (R^2 Score)')\n",
        "# plt.ylabel('R^2 Score')\n",
        "# plt.show()"
      ],
      "metadata": {
        "colab": {
          "base_uri": "https://localhost:8080/"
        },
        "id": "DPA-RMCrZpUZ",
        "outputId": "dda03445-dac0-44c6-8ad0-e9e6fc54ebac"
      },
      "execution_count": 6,
      "outputs": [
        {
          "output_type": "stream",
          "name": "stdout",
          "text": [
            "Linear Regression Model Performance:\n",
            "RMSE: 1.8469\n",
            "R^2 Score: 0.0407\n",
            "\n",
            "Random Forest Model Performance:\n",
            "RMSE: 1.5244\n",
            "R^2 Score: 0.3464\n",
            "\n",
            "XGBoost Model Performance:\n",
            "RMSE: 1.4577\n",
            "R^2 Score: 0.4024\n",
            "\n"
          ]
        }
      ]
    },
    {
      "cell_type": "code",
      "source": [],
      "metadata": {
        "id": "cpOlQ_DvdqUl"
      },
      "execution_count": null,
      "outputs": []
    }
  ]
}